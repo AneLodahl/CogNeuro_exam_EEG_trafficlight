{
 "cells": [
  {
   "cell_type": "code",
   "execution_count": null,
   "metadata": {},
   "outputs": [],
   "source": [
    "!pip install mne\n",
    "!pip install numpy\n",
    "\n",
    "import mne\n",
    "import numpy as np\n",
    "import os\n",
    "import matplotlib.pyplot as plt\n",
    "%matplotlib inline\n",
    "import os"
   ]
  },
  {
   "cell_type": "code",
   "execution_count": null,
   "metadata": {},
   "outputs": [],
   "source": [
    "input_path = os.path.join(os.getcwd(), '/work/AneIbenLodahl#7626/CogNeuro24/EEG/EEG Ane analysis/EEG exam/preprocessed_exam_data') #path without file\n",
    "filename = \"preprocessed_exam_data.fif\" #only the file\n",
    "\n",
    "#full path: /work/AneIbenLodahl#7626/CogNeuro24/EEG/EEG Ane analysis/EEG exam/preprocessed_exam_data/preprocessed_exam_data.fif\n",
    "raw = mne.io.read_raw_fif(os.path.join(input_path, filename), preload=True)\n"
   ]
  },
  {
   "cell_type": "code",
   "execution_count": null,
   "metadata": {},
   "outputs": [],
   "source": [
    "#locate the events\n",
    "events, events_dict = mne.events_from_annotations(raw, event_id='auto')\n",
    "\n"
   ]
  },
  {
   "cell_type": "markdown",
   "metadata": {},
   "source": [
    "\n",
    "if label == \"R\":\n",
    "\n",
    "            img = stimuli[Stim]\n",
    "            \n",
    "            TRIGGER_S = 21  # Trigger for stimuli, with correct answer is right arrow\n",
    "            \n",
    "            TRIGGER_B = 31  # trigger for break, where correct answer was or will be right arrow\n",
    "        \n",
    "        else:\n",
    "            \n",
    "            img = stimuli[Stim]\n",
    "            \n",
    "            TRIGGER_S = 22  # Trigger for stimuli, with correct answer is left arrow\n",
    "            \n",
    "            TRIGGER_B = 32  #  trigger for break, where correct answer was or will be left arrow\n",
    "\n",
    "\n",
    "label = \"R\" if stimuli[Stim].endswith(\"R.png\") else \"L\"\n",
    "\n",
    "\n",
    "trigger_s is stimuli\n",
    "trigger_b is break\n",
    "\n",
    "X1 is for righ arrow being correct\n",
    "\n",
    "X2 is for left arrow being correct\n",
    "\n",
    "2X is for stimuli\n",
    "\n",
    "3X is for break\n",
    "\n",
    "\n",
    "R is when the correct answer is right arrow\n",
    "\n",
    "L is when the correct answer is left arrow\n",
    "\n"
   ]
  },
  {
   "cell_type": "code",
   "execution_count": null,
   "metadata": {},
   "outputs": [],
   "source": [
    "events_dict\n"
   ]
  },
  {
   "cell_type": "code",
   "execution_count": null,
   "metadata": {},
   "outputs": [],
   "source": [
    "#making to conditions\n",
    "\n",
    "old_events = events.copy() #making a copy of the events, for backup\n",
    "\n",
    "events[events[:,0]>(raw.first_samp+400000), 2] = events[events[:,0]>(raw.first_samp+400000), 2]+100\n",
    "\n"
   ]
  },
  {
   "cell_type": "code",
   "execution_count": null,
   "metadata": {},
   "outputs": [],
   "source": [
    "event_id = {'stim/R/Driver': 21, #stimuli, with correct answer is right arrow\n",
    " 'stim/L/Driver': 22, #stimuli, with correct answer is left arrow\n",
    " 'break/R/Driver': 31,  #break, where correct answer was or will be right arrow\n",
    " 'break/L/Driver': 32, \n",
    " 'stim/R/Passenger': 121, #stimuli, with correct answer is right arrow\n",
    " 'stim/L/Passenger': 122, #stimuli, with correct answer is left arrow\n",
    " 'break/R/Passenger': 131,  #break, where correct answer was or will be right arrow\n",
    " 'break/L/Passenger': 132\n",
    "}\n"
   ]
  },
  {
   "cell_type": "code",
   "execution_count": null,
   "metadata": {},
   "outputs": [],
   "source": [
    "\n",
    "#the correct plot of all events\n",
    "mne.viz.plot_events(events, event_id=event_id, first_samp = raw.first_samp); # somethimes ;c, don't know when it should be there and not\n"
   ]
  },
  {
   "cell_type": "code",
   "execution_count": null,
   "metadata": {},
   "outputs": [],
   "source": [
    "\n",
    "#i forhold til p300\n",
    "\n",
    "tmin, tmax = -0.100, 0.800 # from 100 ms before onset to 800 after onset\n",
    "\n",
    "#sspecifying value and rejecting anything above or below that value\n",
    "\n",
    "reject = {'eeg': 150e-6}\n"
   ]
  },
  {
   "cell_type": "code",
   "execution_count": null,
   "metadata": {},
   "outputs": [],
   "source": [
    "picks = ['eeg']\n",
    "#using all the variables in one"
   ]
  },
  {
   "cell_type": "code",
   "execution_count": null,
   "metadata": {},
   "outputs": [],
   "source": [
    "\n",
    "epochs = mne.Epochs(\n",
    "    raw, \n",
    "    events = events, \n",
    "    event_id = event_id, \n",
    "    tmin = tmin, \n",
    "    tmax = tmax, \n",
    "    picks = picks, \n",
    "    baseline = (tmin, 0), \n",
    "    reject = reject, \n",
    "    preload = True\n",
    "    \n",
    ")\n"
   ]
  },
  {
   "cell_type": "code",
   "execution_count": null,
   "metadata": {},
   "outputs": [],
   "source": [
    "#Downsample the data to 250 Hz\n",
    "\n",
    "epochs.resample(250)\n"
   ]
  },
  {
   "cell_type": "code",
   "execution_count": null,
   "metadata": {},
   "outputs": [],
   "source": [
    "\n",
    "#save epochs\n",
    "\n",
    "outpath = os.path.join(os.getcwd(), 'epochs_exam')\n",
    "\n",
    "if not os.path.exists(outpath):\n",
    "    os.makedirs(outpath)\n",
    "\n",
    "epochs.save(os.path.join(outpath, 'epochs_exam-epo.fif'), overwrite = True)\n"
   ]
  }
 ],
 "metadata": {
  "kernelspec": {
   "display_name": "base",
   "language": "python",
   "name": "python3"
  },
  "language_info": {
   "name": "python",
   "version": "3.11.7"
  }
 },
 "nbformat": 4,
 "nbformat_minor": 2
}
