{
 "cells": [
  {
   "cell_type": "code",
   "execution_count": null,
   "metadata": {},
   "outputs": [],
   "source": [
    "# Subject level mean analysis exam\n",
    "!pip install mne\n",
    "!pip install numpy\n",
    "\n",
    "# import libraries\n",
    "import numpy as np\n",
    "import matplotlib.pyplot as plt\n",
    "from pathlib import Path\n",
    "import mne\n"
   ]
  },
  {
   "cell_type": "code",
   "execution_count": null,
   "metadata": {},
   "outputs": [],
   "source": [
    "#loading the data\n",
    "\n",
    "epochs = mne.read_epochs(\"/work/AneIbenLodahl#7626/CogNeuro24/EEG/EEG Ane analysis/EEG exam/epochs_exam/epochs_exam-epo.fif\", verbose=False, preload=True)\n"
   ]
  },
  {
   "cell_type": "code",
   "execution_count": null,
   "metadata": {},
   "outputs": [],
   "source": [
    "# only keep eeg channels although there are only eeg channels :)\n",
    "epochs.pick([\"eeg\"])\n"
   ]
  },
  {
   "cell_type": "code",
   "execution_count": null,
   "metadata": {},
   "outputs": [],
   "source": [
    "#extract the trials i am interested in\n",
    "\n",
    "epochs_stim_driver = epochs[\"stim\", \"Driver\"] #THIS ONE\n",
    "epochs_stim_passenger = epochs[\"stim\", \"Passenger\"] #THIS ONE"
   ]
  },
  {
   "cell_type": "code",
   "execution_count": null,
   "metadata": {},
   "outputs": [],
   "source": [
    "#prepare the data for t-test\n",
    "#find channels\n",
    "\n",
    "#channel_names = epochs_stim_driver.ch_names\n",
    "#print(channel_names)\n",
    "\n",
    "#['F7', 'F3', 'Fz', 'F4', 'F8', 'FC5', 'FC1', 'FC2', 'FC6', 'T7', 'C3', 'Cz', 'C4', 'T8', 'TP9', 'CP5', 'CP1', 'CP2', 'CP6', 'TP10', 'P7', 'P3', 'Pz', 'P4', 'P8', 'PO9', 'O1', 'Oz', 'O2', 'PO10'#chose channels\n",
    " \n"
   ]
  },
  {
   "cell_type": "code",
   "execution_count": null,
   "metadata": {},
   "outputs": [],
   "source": [
    "#C3, P3, Fz, Cz, Pz, F4, C4, P4, considered other channels\n",
    "picks = [\"C3\", \"P3\", \"Fz\", \"Cz\", \"Pz\", \"F4\", \"C4\", \"P4\"]\n",
    "\n",
    "#time window in seconds\n",
    "tmin = 0.3\n",
    "tmax = 0.5"
   ]
  },
  {
   "cell_type": "code",
   "execution_count": null,
   "metadata": {},
   "outputs": [],
   "source": [
    "#extract the data\n",
    "\n",
    "#from stim, both driver and passenger\n",
    "\n",
    "data_stim_driver = epochs_stim_driver.get_data(picks = picks, tmin = tmin, tmax = tmax)\n",
    "data_stim_passenger = epochs_stim_passenger.get_data(picks = picks, tmin = tmin, tmax = tmax)\n",
    "\n",
    "print(data_stim_driver.shape)\n",
    "print(data_stim_passenger.shape)\n",
    "\n"
   ]
  },
  {
   "cell_type": "code",
   "execution_count": null,
   "metadata": {},
   "outputs": [],
   "source": [
    "#averaging over the second and third dimension, channels and time points per channel/trial\n",
    "# istedet for at have flere data points for hver trial, så finder den et gennemsnit af data points \n",
    "\n",
    "data_stim_driver_mean = np.mean(data_stim_driver, axis = (1,2))\n",
    "data_stim_passenger_mean = np.mean(data_stim_passenger, axis = (1,2))\n",
    "\n",
    "print(data_stim_driver_mean.shape)\n",
    "print(data_stim_passenger_mean.shape)\n",
    "\n",
    "\n"
   ]
  },
  {
   "cell_type": "code",
   "execution_count": null,
   "metadata": {},
   "outputs": [],
   "source": [
    "from scipy import stats\n"
   ]
  },
  {
   "cell_type": "code",
   "execution_count": null,
   "metadata": {},
   "outputs": [],
   "source": [
    "\n",
    "#Put in the numbers I wanna compare\n",
    "stats.ttest_ind(data_stim_driver_mean, data_stim_passenger_mean)"
   ]
  },
  {
   "cell_type": "code",
   "execution_count": null,
   "metadata": {},
   "outputs": [],
   "source": [
    "plot_data_stim_driver = epochs_stim_driver.get_data(copy = True).mean(axis =(0,1)) #mean over channels and trials\n",
    "plot_data_stim_passenger = epochs_stim_passenger.get_data(copy = True).mean(axis =(0,1)) #mean over channels and trials\n",
    "\n",
    "times = epochs_stim_driver.times #why only driver, why not passenger too??\n",
    "\n",
    "fig, ax = plt.subplots(1, figsize = (10, 5), dpi = 300) #making the plot window without anything\n",
    "\n",
    "ax.axvspan(tmin, tmax, color = \"grey\", alpha = 0.2) #adding the grey layer inside \n",
    "\n",
    "#plots the signals \"lines\"\n",
    "ax.plot(times, plot_data_stim_driver.T, label = \"Driver\", linewidth = 1, color = \"green\")\n",
    "ax.plot(times, plot_data_stim_passenger.T, label = \"Passenger\", linewidth = 1, color = \"blue\")\n",
    "\n",
    "# vertical line at 0\n",
    "ax.axvline(x=0, color=\"black\", linestyle=\"--\", label = \"Button press\", linewidth=1)\n",
    "\n",
    "ax.set(xlabel=\"Time (s)\", ylabel=\"Amplitude\", title=\"ERP\")\n",
    "ax.legend(loc = \"upper right\")"
   ]
  }
 ],
 "metadata": {
  "kernelspec": {
   "display_name": "base",
   "language": "python",
   "name": "python3"
  },
  "language_info": {
   "name": "python",
   "version": "3.11.7"
  }
 },
 "nbformat": 4,
 "nbformat_minor": 2
}
