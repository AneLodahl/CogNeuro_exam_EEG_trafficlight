{
 "cells": [
  {
   "cell_type": "code",
   "execution_count": null,
   "metadata": {},
   "outputs": [],
   "source": [
    "!pip install mne\n",
    "!pip install numpy\n",
    "\n",
    "import mne\n",
    "import numpy as np\n",
    "import os\n",
    "import matplotlib.pyplot as plt\n",
    "%matplotlib inline\n"
   ]
  },
  {
   "cell_type": "code",
   "execution_count": null,
   "metadata": {},
   "outputs": [],
   "source": [
    "## Load the data\n",
    "# reading the file & loading in the data\n",
    "raw = mne.io.read_raw_fif('/work/raw/own_experiments/group3_own_AH-raw.fif', preload=True)\n",
    "\n",
    "raw.load_data()"
   ]
  },
  {
   "cell_type": "code",
   "execution_count": null,
   "metadata": {},
   "outputs": [],
   "source": [
    "\n",
    "raw.plot();\n",
    "raw.plot(n_channels= 32, start=60); \n"
   ]
  },
  {
   "cell_type": "code",
   "execution_count": null,
   "metadata": {},
   "outputs": [],
   "source": [
    "#removing bad channels\n",
    "raw.info[\"bads\"] = ['Fp1', 'Fp2']\n",
    "raw.pick(['eeg', 'stim'], exclude = \"bads\") \n"
   ]
  },
  {
   "cell_type": "code",
   "execution_count": null,
   "metadata": {},
   "outputs": [],
   "source": [
    "\n",
    "# common average reference\n",
    "raw.set_eeg_reference('average', projection=True)\n",
    "\n",
    "# applying the reference\n",
    "raw.apply_proj()\n",
    "\n",
    "# plot the data to check that it looks sensical\n",
    "raw.plot(n_channels=30, start = 60);\n"
   ]
  },
  {
   "cell_type": "code",
   "execution_count": null,
   "metadata": {},
   "outputs": [],
   "source": [
    "import os"
   ]
  },
  {
   "cell_type": "code",
   "execution_count": 1,
   "metadata": {},
   "outputs": [
    {
     "name": "stdout",
     "output_type": "stream",
     "text": [
      "^C\n",
      "Collecting mne\n",
      "  Downloading mne-1.7.0-py3-none-any.whl.metadata (13 kB)\n",
      "Requirement already satisfied: decorator in c:\\users\\anelo\\anaconda3\\lib\\site-packages (from mne) (5.1.1)\n",
      "Requirement already satisfied: jinja2 in c:\\users\\anelo\\anaconda3\\lib\\site-packages (from mne) (3.1.3)\n",
      "Requirement already satisfied: lazy-loader>=0.3 in c:\\users\\anelo\\anaconda3\\lib\\site-packages (from mne) (0.3)\n",
      "Requirement already satisfied: matplotlib>=3.5.0 in c:\\users\\anelo\\anaconda3\\lib\\site-packages (from mne) (3.8.0)\n",
      "Requirement already satisfied: numpy>=1.21.2 in c:\\users\\anelo\\anaconda3\\lib\\site-packages (from mne) (1.26.4)\n",
      "Requirement already satisfied: packaging in c:\\users\\anelo\\anaconda3\\lib\\site-packages (from mne) (23.1)\n",
      "Collecting pooch>=1.5 (from mne)\n",
      "  Downloading pooch-1.8.2-py3-none-any.whl.metadata (10 kB)\n",
      "Requirement already satisfied: scipy>=1.7.1 in c:\\users\\anelo\\anaconda3\\lib\\site-packages (from mne) (1.11.4)\n",
      "Requirement already satisfied: tqdm in c:\\users\\anelo\\anaconda3\\lib\\site-packages (from mne) (4.65.0)\n",
      "Requirement already satisfied: contourpy>=1.0.1 in c:\\users\\anelo\\anaconda3\\lib\\site-packages (from matplotlib>=3.5.0->mne) (1.2.0)\n",
      "Requirement already satisfied: cycler>=0.10 in c:\\users\\anelo\\anaconda3\\lib\\site-packages (from matplotlib>=3.5.0->mne) (0.11.0)\n",
      "Requirement already satisfied: fonttools>=4.22.0 in c:\\users\\anelo\\anaconda3\\lib\\site-packages (from matplotlib>=3.5.0->mne) (4.25.0)\n",
      "Requirement already satisfied: kiwisolver>=1.0.1 in c:\\users\\anelo\\anaconda3\\lib\\site-packages (from matplotlib>=3.5.0->mne) (1.4.4)\n",
      "Requirement already satisfied: pillow>=6.2.0 in c:\\users\\anelo\\anaconda3\\lib\\site-packages (from matplotlib>=3.5.0->mne) (10.2.0)\n",
      "Requirement already satisfied: pyparsing>=2.3.1 in c:\\users\\anelo\\anaconda3\\lib\\site-packages (from matplotlib>=3.5.0->mne) (3.0.9)\n",
      "Requirement already satisfied: python-dateutil>=2.7 in c:\\users\\anelo\\anaconda3\\lib\\site-packages (from matplotlib>=3.5.0->mne) (2.8.2)\n",
      "Requirement already satisfied: platformdirs>=2.5.0 in c:\\users\\anelo\\anaconda3\\lib\\site-packages (from pooch>=1.5->mne) (3.10.0)\n",
      "Requirement already satisfied: requests>=2.19.0 in c:\\users\\anelo\\anaconda3\\lib\\site-packages (from pooch>=1.5->mne) (2.31.0)\n",
      "Requirement already satisfied: MarkupSafe>=2.0 in c:\\users\\anelo\\anaconda3\\lib\\site-packages (from jinja2->mne) (2.1.3)\n",
      "Requirement already satisfied: colorama in c:\\users\\anelo\\anaconda3\\lib\\site-packages (from tqdm->mne) (0.4.6)\n",
      "Requirement already satisfied: six>=1.5 in c:\\users\\anelo\\anaconda3\\lib\\site-packages (from python-dateutil>=2.7->matplotlib>=3.5.0->mne) (1.16.0)\n",
      "Requirement already satisfied: charset-normalizer<4,>=2 in c:\\users\\anelo\\anaconda3\\lib\\site-packages (from requests>=2.19.0->pooch>=1.5->mne) (2.0.4)\n",
      "Requirement already satisfied: idna<4,>=2.5 in c:\\users\\anelo\\anaconda3\\lib\\site-packages (from requests>=2.19.0->pooch>=1.5->mne) (3.4)\n",
      "Requirement already satisfied: urllib3<3,>=1.21.1 in c:\\users\\anelo\\anaconda3\\lib\\site-packages (from requests>=2.19.0->pooch>=1.5->mne) (2.0.7)\n",
      "Requirement already satisfied: certifi>=2017.4.17 in c:\\users\\anelo\\anaconda3\\lib\\site-packages (from requests>=2.19.0->pooch>=1.5->mne) (2024.2.2)\n",
      "Downloading mne-1.7.0-py3-none-any.whl (7.4 MB)\n",
      "   ---------------------------------------- 0.0/7.4 MB ? eta -:--:--\n",
      "    --------------------------------------- 0.1/7.4 MB 2.4 MB/s eta 0:00:04\n",
      "   -- ------------------------------------- 0.4/7.4 MB 5.3 MB/s eta 0:00:02\n",
      "   ----- ---------------------------------- 1.0/7.4 MB 6.9 MB/s eta 0:00:01\n",
      "   -------- ------------------------------- 1.5/7.4 MB 8.2 MB/s eta 0:00:01\n",
      "   ---------- ----------------------------- 2.0/7.4 MB 8.5 MB/s eta 0:00:01\n",
      "   ------------- -------------------------- 2.5/7.4 MB 9.0 MB/s eta 0:00:01\n",
      "   --------------- ------------------------ 2.9/7.4 MB 8.9 MB/s eta 0:00:01\n",
      "   ------------------ --------------------- 3.5/7.4 MB 9.3 MB/s eta 0:00:01\n",
      "   --------------------- ------------------ 3.9/7.4 MB 9.2 MB/s eta 0:00:01\n",
      "   ----------------------- ---------------- 4.4/7.4 MB 9.4 MB/s eta 0:00:01\n",
      "   -------------------------- ------------- 5.0/7.4 MB 9.6 MB/s eta 0:00:01\n",
      "   ----------------------------- ---------- 5.4/7.4 MB 9.6 MB/s eta 0:00:01\n",
      "   -------------------------------- ------- 5.9/7.4 MB 9.7 MB/s eta 0:00:01\n",
      "   ---------------------------------- ----- 6.4/7.4 MB 9.8 MB/s eta 0:00:01\n",
      "   ------------------------------------- -- 6.9/7.4 MB 9.8 MB/s eta 0:00:01\n",
      "   ---------------------------------------  7.4/7.4 MB 9.8 MB/s eta 0:00:01\n",
      "   ---------------------------------------- 7.4/7.4 MB 9.5 MB/s eta 0:00:00\n",
      "Downloading pooch-1.8.2-py3-none-any.whl (64 kB)\n",
      "   ---------------------------------------- 0.0/64.6 kB ? eta -:--:--\n",
      "   ---------------------------------------- 64.6/64.6 kB 3.4 MB/s eta 0:00:00\n",
      "Installing collected packages: pooch, mne\n",
      "Successfully installed mne-1.7.0 pooch-1.8.2\n",
      "Requirement already satisfied: numpy in c:\\users\\anelo\\anaconda3\\lib\\site-packages (1.26.4)\n",
      "Opening raw data file /work/raw/own_experiments/group3_own_AH-raw.fif...\n"
     ]
    },
    {
     "ename": "FileNotFoundError",
     "evalue": "fname does not exist: \"c:\\work\\raw\\own_experiments\\group3_own_AH-raw.fif\"",
     "output_type": "error",
     "traceback": [
      "\u001b[1;31m---------------------------------------------------------------------------\u001b[0m",
      "\u001b[1;31mFileNotFoundError\u001b[0m                         Traceback (most recent call last)",
      "Cell \u001b[1;32mIn[1], line 13\u001b[0m\n\u001b[0;32m      8\u001b[0m get_ipython()\u001b[38;5;241m.\u001b[39mrun_line_magic(\u001b[38;5;124m'\u001b[39m\u001b[38;5;124mmatplotlib\u001b[39m\u001b[38;5;124m'\u001b[39m, \u001b[38;5;124m'\u001b[39m\u001b[38;5;124minline\u001b[39m\u001b[38;5;124m'\u001b[39m)\n\u001b[0;32m     11\u001b[0m \u001b[38;5;66;03m## Load the data\u001b[39;00m\n\u001b[0;32m     12\u001b[0m \u001b[38;5;66;03m# reading the file & loading in the data\u001b[39;00m\n\u001b[1;32m---> 13\u001b[0m raw \u001b[38;5;241m=\u001b[39m mne\u001b[38;5;241m.\u001b[39mio\u001b[38;5;241m.\u001b[39mread_raw_fif(\u001b[38;5;124m'\u001b[39m\u001b[38;5;124m/work/raw/own_experiments/group3_own_AH-raw.fif\u001b[39m\u001b[38;5;124m'\u001b[39m, preload\u001b[38;5;241m=\u001b[39m\u001b[38;5;28;01mTrue\u001b[39;00m)\n\u001b[0;32m     15\u001b[0m raw\u001b[38;5;241m.\u001b[39mload_data()\n\u001b[0;32m     18\u001b[0m raw\u001b[38;5;241m.\u001b[39mplot();\n",
      "File \u001b[1;32mc:\\Users\\anelo\\anaconda3\\Lib\\site-packages\\mne\\io\\fiff\\raw.py:537\u001b[0m, in \u001b[0;36mread_raw_fif\u001b[1;34m(fname, allow_maxshield, preload, on_split_missing, verbose)\u001b[0m\n\u001b[0;32m    496\u001b[0m \u001b[38;5;129m@fill_doc\u001b[39m\n\u001b[0;32m    497\u001b[0m \u001b[38;5;28;01mdef\u001b[39;00m \u001b[38;5;21mread_raw_fif\u001b[39m(\n\u001b[0;32m    498\u001b[0m     fname, allow_maxshield\u001b[38;5;241m=\u001b[39m\u001b[38;5;28;01mFalse\u001b[39;00m, preload\u001b[38;5;241m=\u001b[39m\u001b[38;5;28;01mFalse\u001b[39;00m, on_split_missing\u001b[38;5;241m=\u001b[39m\u001b[38;5;124m\"\u001b[39m\u001b[38;5;124mraise\u001b[39m\u001b[38;5;124m\"\u001b[39m, verbose\u001b[38;5;241m=\u001b[39m\u001b[38;5;28;01mNone\u001b[39;00m\n\u001b[0;32m    499\u001b[0m ) \u001b[38;5;241m-\u001b[39m\u001b[38;5;241m>\u001b[39m Raw:\n\u001b[0;32m    500\u001b[0m \u001b[38;5;250m    \u001b[39m\u001b[38;5;124;03m\"\"\"Reader function for Raw FIF data.\u001b[39;00m\n\u001b[0;32m    501\u001b[0m \n\u001b[0;32m    502\u001b[0m \u001b[38;5;124;03m    Parameters\u001b[39;00m\n\u001b[1;32m   (...)\u001b[0m\n\u001b[0;32m    535\u001b[0m \u001b[38;5;124;03m    are updated accordingly.\u001b[39;00m\n\u001b[0;32m    536\u001b[0m \u001b[38;5;124;03m    \"\"\"\u001b[39;00m\n\u001b[1;32m--> 537\u001b[0m     \u001b[38;5;28;01mreturn\u001b[39;00m Raw(\n\u001b[0;32m    538\u001b[0m         fname\u001b[38;5;241m=\u001b[39mfname,\n\u001b[0;32m    539\u001b[0m         allow_maxshield\u001b[38;5;241m=\u001b[39mallow_maxshield,\n\u001b[0;32m    540\u001b[0m         preload\u001b[38;5;241m=\u001b[39mpreload,\n\u001b[0;32m    541\u001b[0m         verbose\u001b[38;5;241m=\u001b[39mverbose,\n\u001b[0;32m    542\u001b[0m         on_split_missing\u001b[38;5;241m=\u001b[39mon_split_missing,\n\u001b[0;32m    543\u001b[0m     )\n",
      "File \u001b[1;32m<decorator-gen-202>:12\u001b[0m, in \u001b[0;36m__init__\u001b[1;34m(self, fname, allow_maxshield, preload, on_split_missing, verbose)\u001b[0m\n",
      "File \u001b[1;32mc:\\Users\\anelo\\anaconda3\\Lib\\site-packages\\mne\\io\\fiff\\raw.py:105\u001b[0m, in \u001b[0;36mRaw.__init__\u001b[1;34m(self, fname, allow_maxshield, preload, on_split_missing, verbose)\u001b[0m\n\u001b[0;32m    103\u001b[0m next_fname \u001b[38;5;241m=\u001b[39m fname\n\u001b[0;32m    104\u001b[0m \u001b[38;5;28;01mwhile\u001b[39;00m next_fname \u001b[38;5;129;01mis\u001b[39;00m \u001b[38;5;129;01mnot\u001b[39;00m \u001b[38;5;28;01mNone\u001b[39;00m:\n\u001b[1;32m--> 105\u001b[0m     raw, next_fname, buffer_size_sec \u001b[38;5;241m=\u001b[39m \u001b[38;5;28mself\u001b[39m\u001b[38;5;241m.\u001b[39m_read_raw_file(\n\u001b[0;32m    106\u001b[0m         next_fname, allow_maxshield, preload, do_check_ext\n\u001b[0;32m    107\u001b[0m     )\n\u001b[0;32m    108\u001b[0m     do_check_ext \u001b[38;5;241m=\u001b[39m \u001b[38;5;28;01mFalse\u001b[39;00m\n\u001b[0;32m    109\u001b[0m     raws\u001b[38;5;241m.\u001b[39mappend(raw)\n",
      "File \u001b[1;32m<decorator-gen-203>:12\u001b[0m, in \u001b[0;36m_read_raw_file\u001b[1;34m(self, fname, allow_maxshield, preload, do_check_ext, verbose)\u001b[0m\n",
      "File \u001b[1;32mc:\\Users\\anelo\\anaconda3\\Lib\\site-packages\\mne\\io\\fiff\\raw.py:187\u001b[0m, in \u001b[0;36mRaw._read_raw_file\u001b[1;34m(self, fname, allow_maxshield, preload, do_check_ext, verbose)\u001b[0m\n\u001b[0;32m    185\u001b[0m     check_fname(fname, \u001b[38;5;124m\"\u001b[39m\u001b[38;5;124mraw\u001b[39m\u001b[38;5;124m\"\u001b[39m, endings)\n\u001b[0;32m    186\u001b[0m \u001b[38;5;66;03m# filename\u001b[39;00m\n\u001b[1;32m--> 187\u001b[0m fname \u001b[38;5;241m=\u001b[39m \u001b[38;5;28mstr\u001b[39m(_check_fname(fname, \u001b[38;5;124m\"\u001b[39m\u001b[38;5;124mread\u001b[39m\u001b[38;5;124m\"\u001b[39m, \u001b[38;5;28;01mTrue\u001b[39;00m, \u001b[38;5;124m\"\u001b[39m\u001b[38;5;124mfname\u001b[39m\u001b[38;5;124m\"\u001b[39m))\n\u001b[0;32m    188\u001b[0m ext \u001b[38;5;241m=\u001b[39m os\u001b[38;5;241m.\u001b[39mpath\u001b[38;5;241m.\u001b[39msplitext(fname)[\u001b[38;5;241m1\u001b[39m]\u001b[38;5;241m.\u001b[39mlower()\n\u001b[0;32m    189\u001b[0m whole_file \u001b[38;5;241m=\u001b[39m preload \u001b[38;5;28;01mif\u001b[39;00m \u001b[38;5;124m\"\u001b[39m\u001b[38;5;124m.gz\u001b[39m\u001b[38;5;124m\"\u001b[39m \u001b[38;5;129;01min\u001b[39;00m ext \u001b[38;5;28;01melse\u001b[39;00m \u001b[38;5;28;01mFalse\u001b[39;00m\n",
      "File \u001b[1;32m<decorator-gen-0>:12\u001b[0m, in \u001b[0;36m_check_fname\u001b[1;34m(fname, overwrite, must_exist, name, need_dir, check_bids_split, verbose)\u001b[0m\n",
      "File \u001b[1;32mc:\\Users\\anelo\\anaconda3\\Lib\\site-packages\\mne\\utils\\check.py:280\u001b[0m, in \u001b[0;36m_check_fname\u001b[1;34m(fname, overwrite, must_exist, name, need_dir, check_bids_split, verbose)\u001b[0m\n\u001b[0;32m    278\u001b[0m             \u001b[38;5;28;01mraise\u001b[39;00m \u001b[38;5;167;01mPermissionError\u001b[39;00m(\u001b[38;5;124mf\u001b[39m\u001b[38;5;124m\"\u001b[39m\u001b[38;5;132;01m{\u001b[39;00mname\u001b[38;5;132;01m}\u001b[39;00m\u001b[38;5;124m does not have read permissions: \u001b[39m\u001b[38;5;132;01m{\u001b[39;00mfname\u001b[38;5;132;01m}\u001b[39;00m\u001b[38;5;124m\"\u001b[39m)\n\u001b[0;32m    279\u001b[0m \u001b[38;5;28;01melif\u001b[39;00m must_exist:\n\u001b[1;32m--> 280\u001b[0m     \u001b[38;5;28;01mraise\u001b[39;00m \u001b[38;5;167;01mFileNotFoundError\u001b[39;00m(\u001b[38;5;124mf\u001b[39m\u001b[38;5;124m'\u001b[39m\u001b[38;5;132;01m{\u001b[39;00mname\u001b[38;5;132;01m}\u001b[39;00m\u001b[38;5;124m does not exist: \u001b[39m\u001b[38;5;124m\"\u001b[39m\u001b[38;5;132;01m{\u001b[39;00mfname\u001b[38;5;132;01m}\u001b[39;00m\u001b[38;5;124m\"\u001b[39m\u001b[38;5;124m'\u001b[39m)\n\u001b[0;32m    282\u001b[0m \u001b[38;5;28;01mreturn\u001b[39;00m fname\n",
      "\u001b[1;31mFileNotFoundError\u001b[0m: fname does not exist: \"c:\\work\\raw\\own_experiments\\group3_own_AH-raw.fif\""
     ]
    }
   ],
   "source": [
    "\n",
    "output_path = os.path.join(os.getcwd(), \"preprocessed_exam_data\")\n",
    "\n",
    "# make sure output path exists \n",
    "if not os.path.exists(output_path):\n",
    "    os.mkdir(output_path)\n",
    "\n",
    "# save the data\n",
    "raw.save(os.path.join(output_path, 'preprocessed_exam_data.fif'), overwrite=True)"
   ]
  }
 ],
 "metadata": {
  "kernelspec": {
   "display_name": "base",
   "language": "python",
   "name": "python3"
  },
  "language_info": {
   "codemirror_mode": {
    "name": "ipython",
    "version": 3
   },
   "file_extension": ".py",
   "mimetype": "text/x-python",
   "name": "python",
   "nbconvert_exporter": "python",
   "pygments_lexer": "ipython3",
   "version": "3.11.7"
  }
 },
 "nbformat": 4,
 "nbformat_minor": 2
}
